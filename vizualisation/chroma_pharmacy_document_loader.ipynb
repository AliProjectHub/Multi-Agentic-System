{
 "cells": [
  {
   "cell_type": "markdown",
   "metadata": {},
   "source": []
  },
  {
   "cell_type": "code",
   "execution_count": null,
   "metadata": {},
   "outputs": [],
   "source": [
    "# Import necessary libraries\n",
    "from langchain.schema import Document\n",
    "from langchain_community.vectorstores import Chroma\n",
    "from langchain_ollama import OllamaEmbeddings\n",
    "import os\n",
    "from dotenv import load_dotenv\n",
    "\n",
    "# Load environment variables from .env file\n",
    "load_dotenv()"
   ]
  },
  {
   "cell_type": "code",
   "execution_count": null,
   "metadata": {},
   "outputs": [],
   "source": [
    "VECTOR_DB_ROUTE = os.getenv('VECTOR_DB_ROUTE')     "
   ]
  },
  {
   "cell_type": "code",
   "execution_count": null,
   "metadata": {},
   "outputs": [],
   "source": [
    "embedding_function = OllamaEmbeddings(model=\"mistral-nemo\")\n",
    "persist_directory = VECTOR_DB_ROUTE"
   ]
  },
  {
   "cell_type": "code",
   "execution_count": 3,
   "metadata": {},
   "outputs": [],
   "source": [
    "docs = [\n",
    "    Document(\n",
    "        page_content=\"Die Sonnen-Apotheke wird von Dr. Marie Schmidt geleitet, einer Apothekerin mit über 15 Jahren Erfahrung in der Gesundheitsberatung. Neben ihrer Qualifikation als Apothekerin hat Dr. Schmidt auch eine Weiterbildung in Naturheilkunde absolviert, was sie in die Beratung integriert. Die Apotheke legt großen Wert auf eine persönliche und diskrete Beratung, um individuelle Gesundheitsbedürfnisse bestmöglich zu unterstützen.\",\n",
    "        metadata={\"source\": \"apotheke_info.txt\"},\n",
    "    ),\n",
    "    Document(\n",
    "        page_content=\"Die Sonnen-Apotheke bietet eine umfassende Auswahl an Medikamenten, Nahrungsergänzungsmitteln und Gesundheitsprodukten. Rezeptfreie Medikamente sind in verschiedenen Preisklassen verfügbar, und Kunden können auf regelmäßige Sonderaktionen zurückgreifen. Außerdem gibt es eine Preisgarantie für verschreibungspflichtige Medikamente, wodurch die Kosten für Patienten möglichst gering gehalten werden. Kundenkarten bieten zusätzlich exklusive Rabatte und Prämien.\",\n",
    "        metadata={\"source\": \"apotheke_info.txt\"},\n",
    "    ),\n",
    "    Document(\n",
    "        page_content=\"Die Sonnen-Apotheke ist montags bis freitags von 8:00 bis 18:00 Uhr und samstags von 9:00 bis 13:00 Uhr geöffnet. An Sonntagen und Feiertagen bleibt die Apotheke geschlossen, jedoch ist ein 24-Stunden-Notfalldienst über das lokale Apothekennetzwerk verfügbar. Kunden können über die Website der Apotheke auch die nächstgelegene Notfallapotheke finden.\",\n",
    "        metadata={\"source\": \"apotheke_info.txt\"},\n",
    "    ),\n",
    "    Document(\n",
    "        page_content=\"Zusätzlich zu den Standarddiensten bietet die Sonnen-Apotheke spezialisierte Dienstleistungen wie Blutdruckmessungen, Blutzuckermessungen und eine individuelle Medikationsanalyse an. Bei Bedarf wird auch ein Medikamenten-Lieferservice angeboten, insbesondere für ältere und mobilitätseingeschränkte Kunden. Die Apotheke arbeitet eng mit lokalen Pflegeeinrichtungen zusammen und bietet Schulungen zur Medikamentensicherheit für Angehörige und Pflegepersonal an.\",\n",
    "        metadata={\"source\": \"apotheke_info.txt\"},\n",
    "    ),\n",
    "    Document(\n",
    "        page_content=\"Die Sonnen-Apotheke veranstaltet monatliche Informationsveranstaltungen zu verschiedenen Gesundheitsthemen, wie z.B. Diabetesmanagement, Herz-Kreislauf-Gesundheit und gesunder Schlaf. Diese Events sind kostenfrei und werden von qualifizierten Fachkräften geleitet. Interessierte Kunden können sich direkt in der Apotheke oder telefonisch anmelden.\",\n",
    "        metadata={\"source\": \"apotheke_info.txt\"},\n",
    "    ),\n",
    "    Document(\n",
    "        page_content=\"Um den Service für internationale Kunden zu verbessern, bietet die Sonnen-Apotheke Beratung in mehreren Sprachen an, darunter Englisch, Türkisch und Arabisch. Für Kunden mit Sprachbarrieren stehen mehrsprachige Informationsbroschüren zu häufig genutzten Medikamenten zur Verfügung.\",\n",
    "        metadata={\"source\": \"apotheke_info.txt\"},\n",
    "    ),\n",
    "]"
   ]
  },
  {
   "cell_type": "code",
   "execution_count": 4,
   "metadata": {},
   "outputs": [
    {
     "name": "stderr",
     "output_type": "stream",
     "text": [
      "C:\\Users\\aj0505\\AppData\\Local\\Temp\\ipykernel_15592\\1350540468.py:2: LangChainDeprecationWarning: Since Chroma 0.4.x the manual persistence method is no longer supported as docs are automatically persisted.\n",
      "  db.persist()\n"
     ]
    }
   ],
   "source": [
    "db = Chroma.from_documents(docs, embedding_function, persist_directory=persist_directory)\n",
    "db.persist()"
   ]
  }
 ],
 "metadata": {
  "kernelspec": {
   "display_name": "Python 3",
   "language": "python",
   "name": "python3"
  },
  "language_info": {
   "codemirror_mode": {
    "name": "ipython",
    "version": 3
   },
   "file_extension": ".py",
   "mimetype": "text/x-python",
   "name": "python",
   "nbconvert_exporter": "python",
   "pygments_lexer": "ipython3",
   "version": "3.11.9"
  }
 },
 "nbformat": 4,
 "nbformat_minor": 2
}
