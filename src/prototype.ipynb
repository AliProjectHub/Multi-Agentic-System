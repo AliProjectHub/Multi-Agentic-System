{
 "cells": [
  {
   "cell_type": "code",
   "execution_count": 1,
   "metadata": {},
   "outputs": [
    {
     "data": {
      "text/plain": [
       "True"
      ]
     },
     "execution_count": 1,
     "metadata": {},
     "output_type": "execute_result"
    }
   ],
   "source": [
    "from dotenv import load_dotenv\n",
    "import os\n",
    "from langchain_ollama import ChatOllama\n",
    "from langchain_groq import ChatGroq\n",
    "from langchain_ollama import OllamaEmbeddings\n",
    "#from langchain_openai import ChatOpenAI\n",
    "#from langchain_openai import OpenAIEmbeddings\n",
    "\n",
    "load_dotenv()"
   ]
  },
  {
   "cell_type": "code",
   "execution_count": 2,
   "metadata": {},
   "outputs": [],
   "source": [
    "os.environ['GROQ_API_KEY'] = os.getenv(\"GROQ_API_KEY\")\n",
    "VECTOR_DB_ROUTE = os.getenv('VECTOR_DB_ROUTE')    \n",
    "LLM = ChatGroq(\n",
    "    model=os.getenv('LLM_MODEL'),\n",
    "    temperature=float(os.getenv('LLM_TEMPERATURE')),\n",
    ")\n",
    "EMBEDDING_FUNCTION = OllamaEmbeddings(model=os.getenv('EMBEDDING_MODEL', 'mistral-nemo'))"
   ]
  },
  {
   "cell_type": "code",
   "execution_count": 3,
   "metadata": {},
   "outputs": [
    {
     "name": "stderr",
     "output_type": "stream",
     "text": [
      "C:\\Users\\aj0505\\AppData\\Local\\Temp\\ipykernel_19096\\2882589806.py:7: LangChainDeprecationWarning: The class `Chroma` was deprecated in LangChain 0.2.9 and will be removed in 1.0. An updated version of the class exists in the :class:`~langchain-chroma package and should be used instead. To use it run `pip install -U :class:`~langchain-chroma` and import as `from :class:`~langchain_chroma import Chroma``.\n",
      "  db = Chroma(persist_directory=persist_directory, embedding_function=embedding_function)\n"
     ]
    }
   ],
   "source": [
    "from langchain.schema import Document\n",
    "from langchain_community.vectorstores import Chroma\n",
    "\n",
    "embedding_function = EMBEDDING_FUNCTION\n",
    "persist_directory = VECTOR_DB_ROUTE\n",
    "\n",
    "db = Chroma(persist_directory=persist_directory, embedding_function=embedding_function)\n",
    "\n",
    "retriever = db.as_retriever()"
   ]
  },
  {
   "cell_type": "code",
   "execution_count": 4,
   "metadata": {},
   "outputs": [],
   "source": [
    "from typing import List, Optional\n",
    "from typing_extensions import TypedDict\n",
    "\n",
    "from agent_state import AgentState"
   ]
  },
  {
   "cell_type": "code",
   "execution_count": 5,
   "metadata": {},
   "outputs": [],
   "source": [
    "def retrieve_docs(state: AgentState):\n",
    "    question = state[\"question\"]\n",
    "    documents = retriever.get_relevant_documents(query=question)\n",
    "    print(\"RETRIEVED DOCUMENTS:\", documents)\n",
    "    state[\"documents\"] = [doc.page_content for doc in documents]\n",
    "    return state"
   ]
  },
  {
   "cell_type": "code",
   "execution_count": 6,
   "metadata": {},
   "outputs": [],
   "source": [
    "from pydantic import BaseModel, Field\n",
    "from langchain_core.prompts import ChatPromptTemplate\n",
    "from grade_question import GradeQuestion\n",
    "\n",
    "def question_classifier(state: AgentState):\n",
    "    question = state[\"question\"]\n",
    "\n",
    "    system = \"\"\"You are a classifier for user questions. Please categorize the question based on its topic.\\n\n",
    "        Choose one of the following categories:\n",
    "        1. Sonnen-Apotheke_Info: Questions about Sonnen-Apotheke, such as:\n",
    "            - Information about the owner or manager (e.g., Dr. Marie Schmidt)\n",
    "            - Pricing of medications and health products\n",
    "            - Opening hours and emergency services\n",
    "            - Services like consultations, measurements, delivery options\n",
    "            - Health events or informational sessions\n",
    "            - Multilingual services\n",
    "        2. Medical_Question: General health or medication-related questions that are not specific to Sonnen-Apotheke.\n",
    "        3. General_Knowledge: General knowledge questions unrelated to health or pharmacy services.\n",
    "        4. Unrelated: Questions on completely unrelated topics.\n",
    "\n",
    "        Examples:\n",
    "          - How late is the pharmacy open? -> Sonnen-Apotheke_Info\n",
    "          - What is the use of ibuprofen? -> Medical_Question\n",
    "          - What's the capital of France? -> General_Knowledge\n",
    "          - Is a free time slot available -> Appointment\n",
    "\n",
    "        Respond with one of the categories: 'Sonnen-Apotheke_Info', 'Medical_Question', 'General_Knowledge', or 'Appointment'.\n",
    "    \"\"\"\n",
    "\n",
    "    grade_prompt = ChatPromptTemplate.from_messages(\n",
    "        [\n",
    "            (\"system\", system),\n",
    "            (\"human\", \"User question: {question}\"),\n",
    "        ]\n",
    "    )\n",
    "\n",
    "    llm = LLM\n",
    "    structured_llm = llm.with_structured_output(GradeQuestion)\n",
    "    grader_llm = grade_prompt | structured_llm\n",
    "    result = grader_llm.invoke({\"question\": question})\n",
    "    print(f\"QUESTION and CATEGORY: {question} - {result.score}\")\n",
    "    state[\"category\"] = result.score\n",
    "    return state"
   ]
  },
  {
   "cell_type": "code",
   "execution_count": 7,
   "metadata": {},
   "outputs": [],
   "source": [
    "def on_topic_router(state: AgentState):\n",
    "    category = state[\"category\"]  # Assuming 'category' is the new field storing classification output\n",
    "\n",
    "    # Define routes for each expected category\n",
    "    if category == \"Sonnen-Apotheke_Info\":\n",
    "        return \"on_topic\"\n",
    "    elif category == \"Medical_Question\":\n",
    "        return \"medical\"\n",
    "    elif category == \"General_Knowledge\":\n",
    "        return \"route_general_knowledge\"\n",
    "    elif category == \"Appointment\":\n",
    "        return \"appointment\""
   ]
  },
  {
   "cell_type": "code",
   "execution_count": 8,
   "metadata": {},
   "outputs": [],
   "source": [
    "def general_knowledge_response(state: AgentState):\n",
    "    \"\"\"Handles responses for questions categorized as General Knowledge.\"\"\"\n",
    "    state[\"llm_output\"] = \"Ich bin auf die Apotheke spezialisiert und kann allgemeine Wissensfragen nicht beantworten.\"\n",
    "    return state"
   ]
  },
  {
   "cell_type": "code",
   "execution_count": 11,
   "metadata": {},
   "outputs": [],
   "source": [
    "from langchain_community.graphs import Neo4jGraph\n",
    "\n",
    "NEO4J_URI = os.getenv('NEO4J_URI')            \n",
    "NEO4J_USERNAME = os.getenv('NEO4J_USERNAME') \n",
    "NEO4J_PASSWORD = os.getenv('NEO4J_PASSWORD')  \n",
    "NEO4J_DATABASE = os.getenv('NEO4J_DATABASE') \n",
    "\n",
    "graph = Neo4jGraph(url=NEO4J_URI, username=NEO4J_USERNAME, password=NEO4J_PASSWORD, database=NEO4J_DATABASE)"
   ]
  },
  {
   "cell_type": "code",
   "execution_count": 12,
   "metadata": {},
   "outputs": [],
   "source": [
    "from langchain.chains import GraphCypherQAChain\n",
    "\n",
    "def medical_question_response(state: AgentState):\n",
    "    llm = LLM\n",
    "    question = state[\"question\"]\n",
    "\n",
    "    # Assuming `graph` is your graph database connection\n",
    "    chain = GraphCypherQAChain.from_llm(graph=graph, llm=llm, allow_dangerous_requests=True, verbose=True)\n",
    "\n",
    "    # Invoke the chain with the question\n",
    "    result = chain.invoke({\"query\": question})\n",
    "    state[\"llm_output\"] = result\n",
    "    return state"
   ]
  },
  {
   "cell_type": "code",
   "execution_count": 13,
   "metadata": {},
   "outputs": [],
   "source": [
    "from grade_documents import GradeDocuments\n",
    "\n",
    "def document_grader(state: AgentState):\n",
    "    docs = state[\"documents\"]\n",
    "    question = state[\"question\"]\n",
    "\n",
    "    system = \"\"\"You are a grader assessing relevance of a retrieved document to a user question. \\n\n",
    "        If the document contains keyword(s) or semantic meaning related to the question, grade it as relevant. \\n\n",
    "        Give a binary score 'Yes' or 'No' score to indicate whether the document is relevant to the question.\"\"\"\n",
    "\n",
    "    grade_prompt = ChatPromptTemplate.from_messages(\n",
    "        [\n",
    "            (\"system\", system),\n",
    "            (\n",
    "                \"human\",\n",
    "                \"Retrieved document: \\n\\n {document} \\n\\n User question: {question}\",\n",
    "            ),\n",
    "        ]\n",
    "    )\n",
    "\n",
    "    llm = LLM\n",
    "    structured_llm = llm.with_structured_output(GradeDocuments)\n",
    "    grader_llm = grade_prompt | structured_llm\n",
    "    scores = []\n",
    "    for doc in docs:\n",
    "        result = grader_llm.invoke({\"document\": doc, \"question\": question})\n",
    "        scores.append(result.score)\n",
    "    state[\"grades\"] = scores\n",
    "    return state"
   ]
  },
  {
   "cell_type": "code",
   "execution_count": 14,
   "metadata": {},
   "outputs": [],
   "source": [
    "def gen_router(state: AgentState):\n",
    "    grades = state[\"grades\"]\n",
    "    print(\"DOCUMENT GRADES:\", grades)\n",
    "\n",
    "    if any(grade.lower() == \"yes\" for grade in grades):\n",
    "        filtered_grades = [grade for grade in grades if grade.lower() == \"yes\"]\n",
    "        print(\"FILTERED DOCUMENT GRADES:\", filtered_grades)\n",
    "        return \"generate\"\n",
    "    else:\n",
    "        return \"rewrite_query\""
   ]
  },
  {
   "cell_type": "code",
   "execution_count": null,
   "metadata": {},
   "outputs": [],
   "source": [
    "from langchain_core.output_parsers import StrOutputParser\n",
    "\n",
    "def rewriter(state: AgentState):\n",
    "    question = state[\"question\"]\n",
    "    system = \"\"\"You a question re-writer that converts an input question to a better version that is optimized \\n\n",
    "        for retrieval. Look at the input and try to reason about the underlying semantic intent / meaning.\"\"\"\n",
    "    re_write_prompt = ChatPromptTemplate.from_messages(\n",
    "        [\n",
    "            (\"system\", system),\n",
    "            (\n",
    "                \"human\",\n",
    "                \"Here is the initial question: \\n\\n {question} \\n Formulate an improved question.\",\n",
    "            ),\n",
    "        ]\n",
    "    )\n",
    "    llm = LLM\n",
    "    question_rewriter = re_write_prompt | llm | StrOutputParser()\n",
    "    output = question_rewriter.invoke({\"question\": question})\n",
    "    state[\"question\"] = output\n",
    "    return state"
   ]
  },
  {
   "cell_type": "code",
   "execution_count": 16,
   "metadata": {},
   "outputs": [],
   "source": [
    "from langchain_core.prompts import ChatPromptTemplate\n",
    "from langchain.schema.output_parser import StrOutputParser\n",
    "\n",
    "\n",
    "def generate_answer(state: AgentState):\n",
    "    llm = LLM\n",
    "    question = state[\"question\"]\n",
    "    context = state[\"documents\"]\n",
    "\n",
    "    template = \"\"\"Answer the question based only on the following context:\n",
    "    {context}\n",
    "\n",
    "    Question: {question}\n",
    "    \"\"\"\n",
    "\n",
    "    prompt = ChatPromptTemplate.from_template(\n",
    "        template=template,\n",
    "    )\n",
    "    chain = prompt | llm | StrOutputParser()\n",
    "    result = chain.invoke({\"question\": question, \"context\": context})\n",
    "    state[\"llm_output\"] = result\n",
    "    return state"
   ]
  },
  {
   "cell_type": "code",
   "execution_count": 25,
   "metadata": {},
   "outputs": [],
   "source": [
    "class Ledger:\n",
    "    def __init__(self):\n",
    "        self.entries = []\n",
    "\n",
    "    def add_entry(self, entry):\n",
    "        self.entries.append(entry)\n",
    "\n",
    "    def get_entries(self):\n",
    "        return self.entries\n"
   ]
  },
  {
   "cell_type": "code",
   "execution_count": null,
   "metadata": {},
   "outputs": [],
   "source": [
    "from langgraph.graph import StateGraph, END\n",
    "\n",
    "# Ledger-Instanz erstellen\n",
    "ledger = Ledger()\n",
    "\n",
    "workflow = StateGraph(AgentState)\n",
    "\n",
    "workflow.add_node(\"topic_decision\", question_classifier)\n",
    "#workflow.add_node(\"appointment_response\", appointment_response)\n",
    "workflow.add_node(\"general_knowledge_response\", general_knowledge_response)\n",
    "workflow.add_node(\"medical_question_response\", medical_question_response)\n",
    "workflow.add_node(\"retrieve_docs\", retrieve_docs)\n",
    "workflow.add_node(\"rewrite_query\", rewriter)\n",
    "workflow.add_node(\"generate_answer\", generate_answer)\n",
    "workflow.add_node(\"document_grader\", document_grader)\n",
    "\n",
    "#workflow.add_edge(\"appointment_response\", END)\n",
    "workflow.add_edge(\"general_knowledge_response\", END)\n",
    "workflow.add_edge(\"medical_question_response\", END)\n",
    "workflow.add_edge(\"retrieve_docs\", \"document_grader\")\n",
    "\n",
    "workflow.add_conditional_edges(\n",
    "    \"topic_decision\",\n",
    "    on_topic_router,\n",
    "    {\n",
    "        \"on_topic\": \"retrieve_docs\",\n",
    "#        \"appointment\": \"appointment_response\",\n",
    "        \"general\": \"general_knowledge_response\",\n",
    "        \"medical\": \"medical_question_response\"\n",
    "    },\n",
    ")\n",
    "workflow.add_conditional_edges(\n",
    "    \"document_grader\",\n",
    "    gen_router,\n",
    "    {\n",
    "        \"generate\": \"generate_answer\",\n",
    "        \"rewrite_query\": \"rewrite_query\",\n",
    "    },\n",
    ")\n",
    "workflow.add_edge(\"rewrite_query\", \"retrieve_docs\")\n",
    "workflow.add_edge(\"generate_answer\", END)\n",
    "\n",
    "\n",
    "workflow.set_entry_point(\"topic_decision\")\n",
    "\n",
    "app = workflow.compile()"
   ]
  },
  {
   "cell_type": "code",
   "execution_count": 18,
   "metadata": {},
   "outputs": [
    {
     "data": {
      "image/jpeg": "[encoded data removed]",
      "text/plain": [
       "<IPython.core.display.Image object>"
      ]
     },
     "metadata": {},
     "output_type": "display_data"
    }
   ],
   "source": [
    "from IPython.display import Image, display\n",
    "\n",
    "try:\n",
    "    display(Image(app.get_graph(xray=True).draw_mermaid_png()))\n",
    "except:\n",
    "    pass"
   ]
  },
  {
   "cell_type": "code",
   "execution_count": null,
   "metadata": {},
   "outputs": [],
   "source": [
    "result = app.invoke({\"question\": \"Was sind die Öffnungszeiten der Sonnen-Apotheke?\"})\n",
    "result[\"llm_output\"]"
   ]
  },
  {
   "cell_type": "code",
   "execution_count": 19,
   "metadata": {},
   "outputs": [
    {
     "name": "stdout",
     "output_type": "stream",
     "text": [
      "QUESTION and CATEGORY: Gibt es Patienten welche ein Symptom teilen? Wenn ja welches bitte - Medical_Question\n",
      "\n",
      "\n",
      "\u001b[1m> Entering new GraphCypherQAChain chain...\u001b[0m\n",
      "Generated Cypher:\n",
      "\u001b[32;1m\u001b[1;3mMATCH (p1:Person)-[:HAT_SYMPTOM]->(s:Symptom)<-[:HAT_SYMPTOM]-(p2:Person) \n",
      "WHERE p1.id <> p2.id \n",
      "RETURN DISTINCT s.name\u001b[0m\n",
      "Full Context:\n",
      "\u001b[32;1m\u001b[1;3m[{'s.name': 'Fieber'}, {'s.name': 'Unwohlsein'}]\u001b[0m\n",
      "\n",
      "\u001b[1m> Finished chain.\u001b[0m\n"
     ]
    },
    {
     "data": {
      "text/plain": [
       "{'query': 'Gibt es Patienten welche ein Symptom teilen? Wenn ja welches bitte',\n",
       " 'result': 'Ja, es gibt Patienten, die ein Symptom teilen. Die Symptome sind Fieber und Unwohlsein.'}"
      ]
     },
     "execution_count": 19,
     "metadata": {},
     "output_type": "execute_result"
    }
   ],
   "source": [
    "result = app.invoke({\"question\": \"Gibt es Patienten welche ein Symptom teilen? Wenn ja welches bitte\"})\n",
    "result[\"llm_output\"]"
   ]
  },
  {
   "cell_type": "code",
   "execution_count": 21,
   "metadata": {},
   "outputs": [
    {
     "name": "stderr",
     "output_type": "stream",
     "text": [
      "C:\\Users\\aj0505\\AppData\\Local\\Packages\\PythonSoftwareFoundation.Python.3.11_qbz5n2kfra8p0\\LocalCache\\local-packages\\Python311\\site-packages\\gradio\\blocks.py:982: UserWarning: Cannot load dark. Caught Exception: module 'huggingface_hub.utils' has no attribute '_errors'\n",
      "  warnings.warn(f\"Cannot load {theme}. Caught Exception: {str(e)}\")\n"
     ]
    },
    {
     "name": "stdout",
     "output_type": "stream",
     "text": [
      "Running on local URL:  http://127.0.0.1:7861\n",
      "\n",
      "To create a public link, set `share=True` in `launch()`.\n"
     ]
    },
    {
     "data": {
      "text/html": [
       "<div><iframe src=\"http://127.0.0.1:7861/\" width=\"100%\" height=\"500\" allow=\"autoplay; camera; microphone; clipboard-read; clipboard-write;\" frameborder=\"0\" allowfullscreen></iframe></div>"
      ],
      "text/plain": [
       "<IPython.core.display.HTML object>"
      ]
     },
     "metadata": {},
     "output_type": "display_data"
    },
    {
     "data": {
      "text/plain": []
     },
     "execution_count": 21,
     "metadata": {},
     "output_type": "execute_result"
    }
   ],
   "source": [
    "import gradio as gr\n",
    "\n",
    "def process_question(question):\n",
    "    # Rufen Sie die app mit der Frage auf\n",
    "    result = app.invoke({\"question\": question})\n",
    "    \n",
    "    # Extrahieren Sie llm_output aus dem Ergebnis\n",
    "    llm_output = result.get(\"llm_output\", \"Keine Ausgabe generiert\")\n",
    "    \n",
    "    return llm_output\n",
    "\n",
    "# Erstellen der Gradio-Oberfläche mit dunklem Thema\n",
    "iface = gr.Interface(\n",
    "    fn=process_question,\n",
    "    inputs=gr.Textbox(lines=2, placeholder=\"Geben Sie Ihre Frage hier ein...\", label=\"Frage\"),\n",
    "    outputs=gr.Textbox(label=\"Antwort\"),\n",
    "    title=\"Wissensgrafen-Abfrageoberfläche\",\n",
    "    description=\"Stellen Sie eine Frage zu den Informationen im Wissensgraphen.\",\n",
    "    examples=[\n",
    "        [\"Was sind die Öffnungszeiten der Sonnen-Apotheke?\"],\n",
    "        [\"Welche Dienstleistungen bietet die Sonnen-Apotheke an?\"]\n",
    "    ],\n",
    "    theme=\"dark\"  # Setzen des Themas auf dunkel\n",
    ")\n",
    "\n",
    "# Starten der Oberfläche\n",
    "iface.launch()\n"
   ]
  }
 ],
 "metadata": {
  "kernelspec": {
   "display_name": "Python 3",
   "language": "python",
   "name": "python3"
  },
  "language_info": {
   "codemirror_mode": {
    "name": "ipython",
    "version": 3
   },
   "file_extension": ".py",
   "mimetype": "text/x-python",
   "name": "python",
   "nbconvert_exporter": "python",
   "pygments_lexer": "ipython3",
   "version": "3.11.9"
  }
 },
 "nbformat": 4,
 "nbformat_minor": 2
}
