{
 "cells": [
  {
   "cell_type": "markdown",
   "metadata": {},
   "source": [
    "Medical Graph Database: Importing Cases, Symptoms, and Diagnoses into Neo4j"
   ]
  },
  {
   "cell_type": "code",
   "execution_count": 1,
   "metadata": {},
   "outputs": [
    {
     "data": {
      "text/plain": [
       "True"
      ]
     },
     "execution_count": 1,
     "metadata": {},
     "output_type": "execute_result"
    }
   ],
   "source": [
    "# Import necessary libraries\n",
    "from langchain_community.graphs import Neo4jGraph\n",
    "from neo4j import GraphDatabase\n",
    "from yfiles_jupyter_graphs import GraphWidget\n",
    "import os\n",
    "from dotenv import load_dotenv\n",
    "\n",
    "# Load environment variables from .env file\n",
    "load_dotenv()"
   ]
  },
  {
   "cell_type": "code",
   "execution_count": 2,
   "metadata": {},
   "outputs": [],
   "source": [
    "# Retrieve Neo4j connection details from environment variables\n",
    "NEO4J_URI = os.getenv('NEO4J_URI')                      # Neo4j database URI\n",
    "NEO4J_USERNAME = os.getenv('NEO4J_USERNAME')            # Username for authentication\n",
    "NEO4J_PASSWORD = os.getenv('NEO4J_PASSWORD')            # Password for authentication\n",
    "NEO4J_DATABASE = os.getenv('NEO4J_DATABASE')            # Database name to connect to\n",
    "MEDICAL_CASES_ROUTE = os.getenv('MEDICAL_CASES_ROUTE')  # Route to the csv-file"
   ]
  },
  {
   "cell_type": "code",
   "execution_count": 3,
   "metadata": {},
   "outputs": [],
   "source": [
    "# Initialize Neo4jGraph with connection details for database access\n",
    "graph = Neo4jGraph(url=NEO4J_URI, username=NEO4J_USERNAME, password=NEO4J_PASSWORD, database=NEO4J_DATABASE)"
   ]
  },
  {
   "cell_type": "code",
   "execution_count": 4,
   "metadata": {},
   "outputs": [
    {
     "data": {
      "text/plain": [
       "[]"
      ]
     },
     "execution_count": 4,
     "metadata": {},
     "output_type": "execute_result"
    }
   ],
   "source": [
    "graph.query(\"\"\"\n",
    "LOAD CSV WITH HEADERS FROM 'file:///' + $movie_directory AS row\n",
    "\n",
    "// Erstellen des Falls und der Person\n",
    "MERGE (f:Fall {id:row.Fall_ID})                                  \n",
    "MERGE (p:Person {id:row.Person_ID})\n",
    "SET p.alter = row.Alter,\n",
    "    p.adresse = row.Adresse,\n",
    "    p.geschlecht = row.Geschlecht\n",
    "MERGE (f)-[:FÜR]->(p)\n",
    "\n",
    "// Erstellen der Symptome und deren Beziehung zur Person\n",
    "FOREACH (Symptom IN split(row.Symptom, '|') |             \n",
    "    MERGE (s:Symptom {name:trim(Symptom)})                  \n",
    "    MERGE (p)-[:HAT_SYMPTOM]->(s))\n",
    "\n",
    "// Erstellen der Diagnosen und deren Beziehung zur Person\n",
    "FOREACH (Diagnose IN split(row.Diagnose, '|') |             \n",
    "    MERGE (d:Diagnose {name:trim(Diagnose)})                  \n",
    "    MERGE (p)-[:HAT_DIAGNOSE]->(d))\n",
    "\n",
    "// Erstellen der Krankheiten und deren Beziehung zur Person\n",
    "FOREACH (Krankheit IN split(row.Krankheit, '|') |             \n",
    "    MERGE (k:Krankheit {name:trim(Krankheit)})                  \n",
    "    MERGE (p)-[:HAT_KRANKHEIT]->(k))\n",
    "            \n",
    "// Erstellen der Biologisch Knoten\n",
    "FOREACH (Biologisch IN split(row.Biologisch, '|') |             \n",
    "    MERGE (b:Biologisch {name:trim(Biologisch)})) \n",
    "            \n",
    "// Erstellen der Körpersystemknoten\n",
    "FOREACH (Körpersystem IN split(row.Körpersystem, '|') |             \n",
    "    MERGE (ks:Körpersystem {name:trim(Körpersystem)})) \n",
    "\n",
    "// Erstellung der Diagnose-Krankheit-Beziehungen basierend auf Diagnose_Rel_Krankheit\n",
    "WITH row, split(row.Diagnose, '|') AS diagnosen, split(row.Krankheit, '|') AS krankheiten,\n",
    "     [rel in split(row.Diagnose_Rel_Krankheit, '|') | split(rel, ',')] AS rel_matrix\n",
    "\n",
    "// Äußere Schleife über die Diagnosen\n",
    "FOREACH (i IN range(0, size(diagnosen)-1) |\n",
    "    // Innere Schleife über die Krankheiten\n",
    "    FOREACH (j IN range(0, size(krankheiten)-1) |\n",
    "        // Prüfen, ob die Beziehung vorhanden ist (Wert = '1')\n",
    "        FOREACH (_ IN CASE WHEN rel_matrix[i][j] = '1' THEN [1] ELSE [] END |\n",
    "            MERGE (d:Diagnose {name: trim(diagnosen[i])})\n",
    "            MERGE (k:Krankheit {name: trim(krankheiten[j])})\n",
    "            MERGE (d)-[:ZEIGT]->(k)\n",
    "        )\n",
    "   )\n",
    ")\n",
    "            \n",
    "// Erstellung der Diagnose-Biologisch-Beziehungen basierend auf Diagnose_Rel_Biologisch\n",
    "WITH row, split(row.Diagnose, '|') AS diagnosen, split(row.Biologisch, '|') AS biologisch,\n",
    "     [rel in split(row.Diagnose_Rel_Biologisch, '|') | split(rel, ',')] AS rel_matrix\n",
    "\n",
    "// Äußere Schleife über die Diagnosen\n",
    "FOREACH (i IN range(0, size(diagnosen)-1) |\n",
    "    // Innere Schleife über Biologisch\n",
    "    FOREACH (j IN range(0, size(biologisch)-1) |\n",
    "        // Prüfen, ob die Beziehung vorhanden ist (Wert = '1')\n",
    "        FOREACH (_ IN CASE WHEN rel_matrix[i][j] = '1' THEN [1] ELSE [] END |\n",
    "            MERGE (d:Diagnose {name: trim(diagnosen[i])})\n",
    "            MERGE (b:Biologisch {name: trim(biologisch[j])})\n",
    "            MERGE (d)-[:ZEIGT]->(b)\n",
    "        )\n",
    "    )\n",
    ")\n",
    "            \n",
    "// Erstellung der Krankheit-Körpersystem-Beziehungen basierend auf Krankheit_Rel_Körpersystem\n",
    "WITH row, split(row.Krankheit, '|') AS krankheiten, split(row.Körpersystem, '|') AS körpersysteme,\n",
    "     [rel in split(row.Krankheit_Rel_Körpersystem, '|') | split(rel, ',')] AS rel_matrix\n",
    "\n",
    "// Äußere Schleife über die Krankheiten\n",
    "FOREACH (i IN range(0, size(krankheiten)-1) |\n",
    "    // Innere Schleife über Körpersysteme\n",
    "    FOREACH (j IN range(0, size(körpersysteme)-1) |\n",
    "        // Prüfen, ob die Beziehung vorhanden ist (Wert = '1')\n",
    "        FOREACH (_ IN CASE WHEN rel_matrix[i][j] = '1' THEN [1] ELSE [] END |\n",
    "            MERGE (k:Krankheit {name: trim(krankheiten[i])})\n",
    "            MERGE (ks:Körpersystem {name: trim(körpersysteme[j])})\n",
    "            MERGE (k)-[:BETRIFFT]->(ks)\n",
    "        )\n",
    "    )\n",
    ")\n",
    "\"\"\",\n",
    "params={\"movie_directory\": str(MEDICAL_CASES_ROUTE)})"
   ]
  }
 ],
 "metadata": {
  "kernelspec": {
   "display_name": "Python 3",
   "language": "python",
   "name": "python3"
  },
  "language_info": {
   "codemirror_mode": {
    "name": "ipython",
    "version": 3
   },
   "file_extension": ".py",
   "mimetype": "text/x-python",
   "name": "python",
   "nbconvert_exporter": "python",
   "pygments_lexer": "ipython3",
   "version": "3.11.9"
  }
 },
 "nbformat": 4,
 "nbformat_minor": 2
}
